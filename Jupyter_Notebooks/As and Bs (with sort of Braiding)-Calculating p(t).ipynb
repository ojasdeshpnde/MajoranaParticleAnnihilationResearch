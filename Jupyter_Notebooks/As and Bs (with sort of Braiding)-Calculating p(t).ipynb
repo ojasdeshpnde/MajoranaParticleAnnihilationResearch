{
 "cells": [
  {
   "cell_type": "code",
   "execution_count": 1,
   "id": "successful-mauritius",
   "metadata": {},
   "outputs": [],
   "source": [
    "import random\n",
    "import matplotlib.pyplot as plt\n",
    "import math\n",
    "import statistics"
   ]
  },
  {
   "cell_type": "code",
   "execution_count": 2,
   "id": "injured-childhood",
   "metadata": {},
   "outputs": [],
   "source": [
    "def timeStep(board, location):\n",
    "    numParticles = len(location)\n",
    "    \n",
    "    for j in range(0, numParticles): #One time-step\n",
    "\n",
    "        if len(location) != 0:\n",
    "            x = random.randint(0, len(location) - 1)\n",
    "\n",
    "            p = location[x]\n",
    "\n",
    "            sign = 1\n",
    "\n",
    "            if random.random() < 0.5:\n",
    "                sign = -1\n",
    "\n",
    "            if (p == 0 and sign == -1) or (p == boardSize - 1 and sign == 1):\n",
    "                sign = -1*sign\n",
    "\n",
    "            if board[p + sign] == 0:\n",
    "                board[p + sign] = board[p]\n",
    "                board[p] = 0\n",
    "                del location[x]\n",
    "                location.append(p + sign)\n",
    "\n",
    "            else:\n",
    "                if board[p] == board[p + sign]:\n",
    "                    board[p] = 0\n",
    "                    board[p + sign] = 0\n",
    "                    del location[x]\n",
    "                    del location[location.index(p + sign)]\n",
    "                else:\n",
    "                    temp = board[p]\n",
    "                    board[p] = board[p + sign]\n",
    "                    board[p + sign] = temp\n",
    "                    "
   ]
  },
  {
   "cell_type": "code",
   "execution_count": 3,
   "id": "opposed-madagascar",
   "metadata": {},
   "outputs": [],
   "source": [
    "def listAve(list1, list2):\n",
    "    retValue = []\n",
    "    for i in range(0,len(list1)):\n",
    "        sum = list1[i] + list2[i]\n",
    "        sum = sum / 2\n",
    "        retValue.append(sum)\n",
    "    return retValue"
   ]
  },
  {
   "cell_type": "code",
   "execution_count": 4,
   "id": "tight-azerbaijan",
   "metadata": {},
   "outputs": [
    {
     "name": "stdout",
     "output_type": "stream",
     "text": [
      "1\n",
      "2\n",
      "3\n",
      "4\n",
      "5\n",
      "6\n",
      "7\n",
      "8\n",
      "9\n",
      "10\n",
      "11\n",
      "12\n",
      "13\n",
      "14\n",
      "15\n",
      "16\n",
      "17\n",
      "18\n",
      "19\n",
      "20\n",
      "21\n",
      "22\n",
      "23\n",
      "24\n",
      "25\n",
      "26\n",
      "27\n",
      "28\n",
      "29\n",
      "30\n",
      "31\n",
      "32\n",
      "33\n",
      "34\n",
      "35\n",
      "36\n",
      "37\n",
      "38\n",
      "39\n",
      "40\n",
      "41\n",
      "42\n",
      "43\n",
      "44\n",
      "45\n",
      "46\n",
      "47\n",
      "48\n",
      "49\n",
      "50\n",
      "51\n",
      "52\n",
      "53\n",
      "54\n",
      "55\n",
      "56\n",
      "57\n",
      "58\n",
      "59\n",
      "60\n",
      "61\n",
      "62\n",
      "63\n",
      "64\n",
      "65\n",
      "66\n",
      "67\n",
      "68\n",
      "69\n",
      "70\n",
      "71\n",
      "72\n",
      "73\n",
      "74\n",
      "75\n",
      "76\n",
      "77\n",
      "78\n",
      "79\n",
      "80\n",
      "81\n",
      "82\n",
      "83\n",
      "84\n",
      "85\n",
      "86\n",
      "87\n",
      "88\n",
      "89\n",
      "90\n",
      "91\n",
      "92\n",
      "93\n",
      "94\n",
      "95\n",
      "96\n",
      "97\n",
      "98\n",
      "99\n",
      "100\n",
      "101\n",
      "102\n",
      "103\n",
      "104\n",
      "105\n",
      "106\n",
      "107\n",
      "108\n",
      "109\n",
      "110\n",
      "111\n",
      "112\n",
      "113\n",
      "114\n",
      "115\n",
      "116\n",
      "117\n",
      "118\n",
      "119\n",
      "120\n",
      "121\n",
      "122\n",
      "123\n",
      "124\n",
      "125\n",
      "126\n",
      "127\n",
      "128\n",
      "129\n",
      "130\n",
      "131\n",
      "132\n",
      "133\n",
      "134\n",
      "135\n",
      "136\n",
      "137\n",
      "138\n",
      "139\n",
      "140\n",
      "141\n",
      "142\n",
      "143\n",
      "144\n",
      "145\n",
      "146\n",
      "147\n",
      "148\n",
      "149\n",
      "150\n",
      "151\n",
      "152\n",
      "153\n",
      "154\n",
      "155\n",
      "156\n",
      "157\n",
      "158\n",
      "159\n",
      "160\n",
      "161\n",
      "162\n",
      "163\n",
      "164\n",
      "165\n",
      "166\n",
      "167\n",
      "168\n",
      "169\n",
      "170\n",
      "171\n",
      "172\n",
      "173\n",
      "174\n",
      "175\n",
      "176\n",
      "177\n",
      "178\n",
      "179\n",
      "180\n",
      "181\n",
      "182\n",
      "183\n",
      "184\n",
      "185\n",
      "186\n",
      "187\n",
      "188\n",
      "189\n",
      "190\n",
      "191\n",
      "192\n",
      "193\n",
      "194\n",
      "195\n",
      "196\n",
      "197\n",
      "198\n",
      "199\n",
      "200\n"
     ]
    }
   ],
   "source": [
    "alphaRuns = [] # has all of the alpha particle runs\n",
    "betaRuns = [] # has all of the beta particle runs\n",
    "pset = [] # IOETTMCO\n",
    "\n",
    "for k in range(0, 200): #Iterating the whole simulation k number of times\n",
    "    print(k+1)\n",
    "\n",
    "\n",
    "    boardA = [] # alpha board\n",
    "    boardB = [] # beta board\n",
    "    numPA = 100 # number of particles on the Alpha board\n",
    "    numPB = 400 # number of particles on the Beta board\n",
    "    boardSize = 1000 \n",
    "    locationA = [] # location of all the alpha board particles\n",
    "    locationB = [] # location of all the beta board particles\n",
    "    timeSize = 1000 # running time of each simluation\n",
    "    pfunct = [] \n",
    "    \n",
    "    \n",
    "    for i in range(0, boardSize): #Adding zeros to represent spots with no particle \n",
    "        boardA.append(0)\n",
    "        boardB.append(0)\n",
    "    \n",
    "    \n",
    "    for i in range(0, numPA): #populating board with 1-s to represent particle type A on board 1\n",
    "        x = random.randint(0, boardSize - 1)\n",
    "        while boardA[x] != 0:\n",
    "            x = random.randint(0, boardSize - 1)\n",
    "        boardA[x] = 1\n",
    "        locationA.append(x)\n",
    "\n",
    "\n",
    "    for i in range(0, numPA): #populating board with 2-s to represent particle type B on board 1\n",
    "        x = random.randint(0, boardSize - 1)\n",
    "        while boardA[x] != 0:\n",
    "            x = random.randint(0, boardSize - 1)\n",
    "        boardA[x] = 2\n",
    "        locationA.append(x)\n",
    "    \n",
    "    for i in range(0, numPB): #populating board with 1-s to represent particle type A on board 2\n",
    "        x = random.randint(0, boardSize - 1)\n",
    "        while boardB[x] != 0:\n",
    "            x = random.randint(0, boardSize - 1)\n",
    "        boardB[x] = 1\n",
    "        locationB.append(x)\n",
    "\n",
    "\n",
    "    for i in range(0, numPB): #populating board with 2-s to represent particle type B on board 2\n",
    "        x = random.randint(0, boardSize - 1)\n",
    "        while boardB[x] != 0:\n",
    "            x = random.randint(0, boardSize - 1)\n",
    "        boardB[x] = 2\n",
    "        locationB.append(x)\n",
    "    \n",
    "    Arun = [] # individual Alpha board run\n",
    "    Brun= [] # individual Beta board run\n",
    "    \n",
    "\n",
    "    \n",
    "    for i in range(0, timeSize): #Repeating the process up to i number of time steps \n",
    "        counter = 0\n",
    "        \n",
    "        for j in range(0, boardSize): # braiding code\n",
    "            \n",
    "\n",
    "            if (boardA[j] != 0) and (boardB[j] != 0):\n",
    "                counter += 1\n",
    "                if boardA[j] == 1:\n",
    "                    boardA[j] = 2\n",
    "                else:\n",
    "                    boardA[j] = 1\n",
    "                \n",
    "                if boardB[j] == 1:\n",
    "                    boardB[j] = 2\n",
    "                else:\n",
    "                    boardB[j] = 1\n",
    "        \n",
    "        pfunct.append(counter / len(locationA)) # number of braiding / number of particles as a function of time\n",
    "    \n",
    "        timeStep(boardA, locationA) # conducts a time step for a board\n",
    "        timeStep(boardB, locationB)\n",
    "        \n",
    "        \n",
    "        Arun.append(len(locationA) / boardSize) # adds in the density for this time step\n",
    "        Brun.append(len(locationB) / boardSize)\n",
    "        \n",
    "        \n",
    "    alphaRuns.append(Arun) # adds it to the alphaRuns matrix which has all of the runs ever conducted\n",
    "    betaRuns.append(Brun) # same for beta\n",
    "    pset.append(pfunct) # holds all the braiding functions\n",
    "    \n",
    "        "
   ]
  },
  {
   "cell_type": "code",
   "execution_count": 5,
   "id": "settled-burner",
   "metadata": {},
   "outputs": [],
   "source": [
    "time = [] # populates the time array\n",
    "\n",
    "\n",
    "for i in range(0, len(Arun)):\n",
    "    time.append(i)\n"
   ]
  },
  {
   "cell_type": "code",
   "execution_count": 6,
   "id": "average-tuesday",
   "metadata": {},
   "outputs": [],
   "source": [
    "runs = [] # runs holds an average of each alpharun[i] and betarun[i]\n",
    "for i in range(0,len(alphaRuns)):\n",
    "    runs.append(listAve(alphaRuns[i],betaRuns[i]))\n"
   ]
  },
  {
   "cell_type": "code",
   "execution_count": 30,
   "id": "speaking-syndrome",
   "metadata": {},
   "outputs": [
    {
     "name": "stdout",
     "output_type": "stream",
     "text": [
      "0.0\n"
     ]
    }
   ],
   "source": [
    "#average = [] # holds the average number of particles at each time t in runs.\n",
    "averageAlpha = [] # holds the average number of alpha particles at each time t.\n",
    "averageBeta = [] # same as above\n",
    "\n",
    "difference = []\n",
    "Sum = []\n",
    "\n",
    "totalStdA = [] # standard deviation for each collumn in alphaRuns\n",
    "totalStdB = []\n",
    "\n",
    "averageP = [] # will hold the average number of majorana events per time step per number of particles\n",
    "print(pset[0][500])\n",
    "for i in range(0, len(alphaRuns[0])):\n",
    "    \n",
    "    sumA = 0\n",
    "    sumB = 0\n",
    "    tempA = []\n",
    "    tempB = []\n",
    "    sumP = 0\n",
    "               \n",
    "    for j in range(0, len(alphaRuns)):\n",
    "        sumA = sumA + alphaRuns[j][i]\n",
    "        sumB = sumB + betaRuns[j][i]\n",
    "        sumP = sumP + pset[j][i]\n",
    "        tempA.append(alphaRuns[j][i])\n",
    "        tempB.append(betaRuns[j][i])\n",
    "    \n",
    "        \n",
    "    averageAlpha.append(sumA / len(alphaRuns))\n",
    "    averageBeta.append(sumB / len(betaRuns))\n",
    "    difference.append(-1*(sumA / len(alphaRuns) - sumB / len(betaRuns)))\n",
    "    Sum.append((sumA / len(alphaRuns) + sumB / len(betaRuns)))\n",
    "                      \n",
    "    averageP.append(sumP / len(pset))\n",
    "    totalStdA.append(1*(statistics.stdev(tempA)/math.sqrt(len(alphaRuns))))\n",
    "    totalStdB.append(1*(statistics.stdev(tempB)/math.sqrt(len(betaRuns))))\n"
   ]
  },
  {
   "cell_type": "code",
   "execution_count": 26,
   "id": "challenging-gathering",
   "metadata": {},
   "outputs": [
    {
     "data": {
      "text/plain": [
       "Text(0, 0.5, 'Particle Density')"
      ]
     },
     "execution_count": 26,
     "metadata": {},
     "output_type": "execute_result"
    },
    {
     "data": {
      "image/png": "[encoded data removed]",
      "text/plain": [
       "<Figure size 432x288 with 1 Axes>"
      ]
     },
     "metadata": {
      "needs_background": "light"
     },
     "output_type": "display_data"
    }
   ],
   "source": [
    "y = []\n",
    "y.append(1.5/math.sqrt(4*math.pi*1))\n",
    "\n",
    "for i in range(1, len(time)):\n",
    "    y.append(1.5/math.sqrt(4*math.pi*i))\n",
    "\n",
    "    \n",
    "plt.xscale(\"log\")\n",
    "plt.yscale(\"log\")\n",
    "\n",
    "plt.plot(time, averageAlpha, label = 'Alpha')\n",
    "plt.plot(time, averageBeta, label = 'Beta')\n",
    "plt.plot(time, y, label = 'expected')\n",
    "plt.legend(loc=\"upper right\")\n",
    "plt.xlabel('Time')\n",
    "plt.ylabel('Particle Density')\n",
    "#plt.errorbar(time, average, yerr = totalStd, fmt = 'o', color = 'r')"
   ]
  },
  {
   "cell_type": "code",
   "execution_count": 39,
   "id": "governing-tunnel",
   "metadata": {},
   "outputs": [],
   "source": [
    "dDiff = []\n",
    "dSum = []\n",
    "dDiff.append(0)\n",
    "dSum.append(0)\n",
    "for i in range(2,len(time)):\n",
    "    dDiff.append(abs((difference[i]-difference[i-2])/2))\n",
    "    dSum.append(abs((Sum[i]-Sum[i-2])/2))\n",
    "dDiff.append(dDiff[len(dDiff)-1])\n",
    "dSum.append(dSum[len(dSum)-1])\n",
    "dDiff[0] = dDiff[1]\n",
    "dSum[0] = dSum[1]\n"
   ]
  },
  {
   "cell_type": "code",
   "execution_count": 41,
   "id": "likely-flash",
   "metadata": {},
   "outputs": [
    {
     "data": {
      "text/plain": [
       "<matplotlib.legend.Legend at 0x7fb4980ce090>"
      ]
     },
     "execution_count": 41,
     "metadata": {},
     "output_type": "execute_result"
    },
    {
     "data": {
      "image/png": "[encoded data removed]",
      "text/plain": [
       "<Figure size 432x288 with 1 Axes>"
      ]
     },
     "metadata": {
      "needs_background": "light"
     },
     "output_type": "display_data"
    }
   ],
   "source": [
    "plt.xscale(\"log\")\n",
    "plt.yscale(\"log\")\n",
    "plt.plot(time, difference, label = 'pBeta - pAlpha')\n",
    "plt.plot(time, dDiff, label = 'd/dt Difference')\n",
    "plt.plot(time, Sum, label = 'pBeta + pAlpha')\n",
    "plt.plot(time, dSum, label = 'd/dt Sum')\n",
    "plt.legend(loc=\"lower right\")"
   ]
  },
  {
   "cell_type": "code",
   "execution_count": 10,
   "id": "acquired-circular",
   "metadata": {},
   "outputs": [
    {
     "name": "stdout",
     "output_type": "stream",
     "text": [
      "C value for the Alpha run is  1.4612934629216807\n",
      "C value for the Beta run is  1.4937279302821025\n"
     ]
    },
    {
     "data": {
      "text/plain": [
       "Text(0, 0.5, 'C')"
      ]
     },
     "execution_count": 10,
     "metadata": {},
     "output_type": "execute_result"
    },
    {
     "data": {
      "image/png": "[encoded data removed]",
      "text/plain": [
       "<Figure size 432x288 with 1 Axes>"
      ]
     },
     "metadata": {
      "needs_background": "light"
     },
     "output_type": "display_data"
    }
   ],
   "source": [
    "coefA = []\n",
    "coefB = []\n",
    "ave_tempAlpha = 0 # Average coefficient Alpha\n",
    "ave_tempBeta = 0 # Average coefficient Beta\n",
    "\n",
    "for i in range(0, len(averageAlpha)):\n",
    "    coefA.append(averageAlpha[i] * (math.sqrt(4*math.pi*time[i])))\n",
    "    coefB.append(averageBeta[i] * (math.sqrt(4*math.pi*time[i])))\n",
    "    if i >= 200:\n",
    "        ave_tempAlpha = coefA[i] + ave_tempAlpha\n",
    "        ave_tempBeta = coefB[i] + ave_tempBeta\n",
    "\n",
    "        \n",
    "\n",
    "ave_tempAlpha = ave_tempAlpha / (timeSize - 199) \n",
    "ave_tempBeta = ave_tempBeta / (timeSize - 199)\n",
    "\n",
    "print(\"C value for the Alpha run is \", ave_tempAlpha)\n",
    "print(\"C value for the Beta run is \", ave_tempBeta)\n",
    "    \n",
    "plt.plot(time, coefA, label = 'Alpha')\n",
    "plt.plot(time, coefB, label = 'Beta')\n",
    "plt.legend(loc=\"upper right\")\n",
    "plt.xlabel('Time')\n",
    "plt.ylabel('C')\n"
   ]
  },
  {
   "cell_type": "code",
   "execution_count": null,
   "id": "equipped-authorization",
   "metadata": {},
   "outputs": [],
   "source": []
  },
  {
   "cell_type": "code",
   "execution_count": 11,
   "id": "eastern-broad",
   "metadata": {},
   "outputs": [
    {
     "ename": "NameError",
     "evalue": "name 'average' is not defined",
     "output_type": "error",
     "traceback": [
      "\u001b[0;31m---------------------------------------------------------------------------\u001b[0m",
      "\u001b[0;31mNameError\u001b[0m                                 Traceback (most recent call last)",
      "\u001b[0;32m<ipython-input-11-58a66fe5d721>\u001b[0m in \u001b[0;36m<module>\u001b[0;34m\u001b[0m\n\u001b[1;32m      3\u001b[0m \u001b[0;34m\u001b[0m\u001b[0m\n\u001b[1;32m      4\u001b[0m \u001b[0mplt\u001b[0m\u001b[0;34m.\u001b[0m\u001b[0mplot\u001b[0m\u001b[0;34m(\u001b[0m\u001b[0mtime\u001b[0m\u001b[0;34m,\u001b[0m \u001b[0maverageP\u001b[0m\u001b[0;34m)\u001b[0m\u001b[0;34m\u001b[0m\u001b[0;34m\u001b[0m\u001b[0m\n\u001b[0;32m----> 5\u001b[0;31m \u001b[0mplt\u001b[0m\u001b[0;34m.\u001b[0m\u001b[0mplot\u001b[0m\u001b[0;34m(\u001b[0m\u001b[0mtime\u001b[0m\u001b[0;34m,\u001b[0m \u001b[0maverage\u001b[0m\u001b[0;34m)\u001b[0m\u001b[0;34m\u001b[0m\u001b[0;34m\u001b[0m\u001b[0m\n\u001b[0m\u001b[1;32m      6\u001b[0m \u001b[0mplt\u001b[0m\u001b[0;34m.\u001b[0m\u001b[0mxlabel\u001b[0m\u001b[0;34m(\u001b[0m\u001b[0;34m'Time'\u001b[0m\u001b[0;34m)\u001b[0m\u001b[0;34m\u001b[0m\u001b[0;34m\u001b[0m\u001b[0m\n\u001b[1;32m      7\u001b[0m \u001b[0mplt\u001b[0m\u001b[0;34m.\u001b[0m\u001b[0mylabel\u001b[0m\u001b[0;34m(\u001b[0m\u001b[0;34m'P'\u001b[0m\u001b[0;34m)\u001b[0m\u001b[0;34m\u001b[0m\u001b[0;34m\u001b[0m\u001b[0m\n",
      "\u001b[0;31mNameError\u001b[0m: name 'average' is not defined"
     ]
    },
    {
     "data": {
      "image/png": "[encoded data removed]",
      "text/plain": [
       "<Figure size 432x288 with 1 Axes>"
      ]
     },
     "metadata": {
      "needs_background": "light"
     },
     "output_type": "display_data"
    }
   ],
   "source": [
    "plt.xscale(\"log\")\n",
    "plt.yscale(\"log\")\n",
    "\n",
    "plt.plot(time, averageP)\n",
    "plt.plot(time, average)\n",
    "plt.xlabel('Time')\n",
    "plt.ylabel('P')\n",
    "print(averageP[500])\n"
   ]
  },
  {
   "cell_type": "code",
   "execution_count": null,
   "id": "signed-samba",
   "metadata": {},
   "outputs": [],
   "source": []
  }
 ],
 "metadata": {
  "kernelspec": {
   "display_name": "Python 3",
   "language": "python",
   "name": "python3"
  },
  "language_info": {
   "codemirror_mode": {
    "name": "ipython",
    "version": 3
   },
   "file_extension": ".py",
   "mimetype": "text/x-python",
   "name": "python",
   "nbconvert_exporter": "python",
   "pygments_lexer": "ipython3",
   "version": "3.7.7"
  }
 },
 "nbformat": 4,
 "nbformat_minor": 5
}
